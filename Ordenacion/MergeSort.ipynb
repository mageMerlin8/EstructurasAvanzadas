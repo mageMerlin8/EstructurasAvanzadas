{
 "cells": [
  {
   "cell_type": "code",
   "execution_count": 67,
   "metadata": {},
   "outputs": [],
   "source": [
    "import numpy as np\n",
    "import random as rand"
   ]
  },
  {
   "cell_type": "code",
   "execution_count": 156,
   "metadata": {},
   "outputs": [],
   "source": [
    "def merge(left, right):\n",
    "    if len(left) == 0: return right\n",
    "    if len(right) == 0: return left\n",
    "    \n",
    "    n = len(left) + len(right)\n",
    "    resp = np.empty(n)\n",
    "    i = 0\n",
    "    j = 0\n",
    "    while(i + j < n):\n",
    "        if(i < len(left) and (j >= len(right) or left[i] <= right[j])):\n",
    "            resp[i+j] = left[i]\n",
    "            i += 1\n",
    "        else:\n",
    "            resp[i+j] = right[j]\n",
    "            j += 1\n",
    "    return resp        \n",
    "\n",
    "def mergeSort(arr):\n",
    "    if(len(arr) > 1):\n",
    "        corte = int(len(arr)/2)\n",
    "        left = mergeSort(arr[:corte])\n",
    "        right = mergeSort(arr[corte:])\n",
    "        resp = merge(left, right)\n",
    "    else:\n",
    "        resp = arr\n",
    "    return resp"
   ]
  },
  {
   "cell_type": "code",
   "execution_count": 157,
   "metadata": {},
   "outputs": [],
   "source": [
    "def createIntArray(size):\n",
    "    arr = []\n",
    "    num = size*2\n",
    "    for i in range(size):\n",
    "        arr.append(rand.randint(0,num))\n",
    "    return np.array(arr, dtype = int)"
   ]
  },
  {
   "cell_type": "code",
   "execution_count": 160,
   "metadata": {},
   "outputs": [
    {
     "name": "stdout",
     "output_type": "stream",
     "text": [
      "14\n",
      "13\n",
      "6\n",
      "20\n",
      "5\n",
      "4\n",
      "9\n",
      "0\n",
      "2\n",
      "0\n"
     ]
    }
   ],
   "source": [
    "x10 = createIntArray(10)\n",
    "arr10 = np.array(x10)\n",
    "\n",
    "for i in arr10:\n",
    "    print(i)"
   ]
  },
  {
   "cell_type": "code",
   "execution_count": 161,
   "metadata": {},
   "outputs": [
    {
     "name": "stdout",
     "output_type": "stream",
     "text": [
      "0.0\n",
      "0.0\n",
      "2.0\n",
      "4.0\n",
      "5.0\n",
      "6.0\n",
      "9.0\n",
      "13.0\n",
      "14.0\n",
      "20.0\n"
     ]
    }
   ],
   "source": [
    "for i in mergeSort(arr10):\n",
    "    print(i)"
   ]
  },
  {
   "cell_type": "code",
   "execution_count": null,
   "metadata": {},
   "outputs": [],
   "source": []
  }
 ],
 "metadata": {
  "kernelspec": {
   "display_name": "Python 3",
   "language": "python",
   "name": "python3"
  },
  "language_info": {
   "codemirror_mode": {
    "name": "ipython",
    "version": 3
   },
   "file_extension": ".py",
   "mimetype": "text/x-python",
   "name": "python",
   "nbconvert_exporter": "python",
   "pygments_lexer": "ipython3",
   "version": "3.6.5"
  }
 },
 "nbformat": 4,
 "nbformat_minor": 2
}

{
 "cells": [
  {
   "cell_type": "code",
   "execution_count": 24,
   "metadata": {},
   "outputs": [],
   "source": [
    "import random as rand\n",
    "import timeit as t\n",
    "\n",
    "import matplotlib.pyplot as plt\n",
    "import numpy as np"
   ]
  },
  {
   "cell_type": "code",
   "execution_count": 25,
   "metadata": {},
   "outputs": [],
   "source": [
    "\"Bubble sort\"\n",
    "def bubbleSort(a):\n",
    "    n = len(a)\n",
    "    for i in range(n):\n",
    "        for j in range(0, n-i-1):\n",
    "            if a[j] > a[j + 1]:\n",
    "                a[j], a[j+1] = a[j+1], a[j]\n",
    "                "
   ]
  },
  {
   "cell_type": "code",
   "execution_count": 26,
   "metadata": {},
   "outputs": [],
   "source": [
    "\"Insertion Sort\"\n",
    "def insertionSort(a):\n",
    "    for i in range(len(a)):\n",
    "        minIndex = i\n",
    "        for j in range(i+1, len(a)):\n",
    "            if a[minIndex] > a[j]:\n",
    "                minIndex = j\n",
    "        a[i], a[minIndex] = a[minIndex], a[i]"
   ]
  },
  {
   "cell_type": "code",
   "execution_count": 27,
   "metadata": {},
   "outputs": [],
   "source": [
    "\"MergeSort\"\n",
    "def merge(left, right):\n",
    "    if len(left) == 0: return right\n",
    "    if len(right) == 0: return left\n",
    "    \n",
    "    n = len(left) + len(right)\n",
    "    resp = np.empty(n)\n",
    "    i = 0\n",
    "    j = 0\n",
    "    while(i + j < n):\n",
    "        if(i < len(left) and (j >= len(right) or left[i] <= right[j])):\n",
    "            resp[i+j] = left[i]\n",
    "            i += 1\n",
    "        else:\n",
    "            resp[i+j] = right[j]\n",
    "            j += 1\n",
    "    return resp        \n",
    "\n",
    "def mergeSort(arr):\n",
    "    if(len(arr) > 1):\n",
    "        corte = int(len(arr)/2)\n",
    "        left = mergeSort(arr[:corte])\n",
    "        right = mergeSort(arr[corte:])\n",
    "        resp = merge(left, right)\n",
    "    else:\n",
    "        resp = arr\n",
    "    return resp"
   ]
  },
  {
   "cell_type": "code",
   "execution_count": 28,
   "metadata": {},
   "outputs": [],
   "source": [
    "def isSortedAsc(a):\n",
    "    return all(a[i] <= a[i+1] for i in range(len(a) - 1))\n",
    "\n",
    "def isSortedDesc(a):\n",
    "    return all(a[i] >= a[i+1] for i in range(len(a) - 1))"
   ]
  },
  {
   "cell_type": "code",
   "execution_count": 29,
   "metadata": {},
   "outputs": [],
   "source": [
    "def createDoubleArray(size):\n",
    "    arr = []\n",
    "    for i in range(size):\n",
    "        arr.append(rand.random())\n",
    "    return np.array(arr, dtype = float)\n",
    "\n",
    "def createIntArray(size):\n",
    "    arr = []\n",
    "    num = size*2\n",
    "    for i in range(size):\n",
    "        arr.append(rand.randint(0,num))\n",
    "    return np.array(arr, dtype = int)\n"
   ]
  },
  {
   "cell_type": "code",
   "execution_count": 30,
   "metadata": {},
   "outputs": [],
   "source": [
    "def getPruebas(px):\n",
    "    pruebas = []\n",
    "    \n",
    "    arregloPruebasInt = []\n",
    "    arregloPruebasDouble = []\n",
    "    \n",
    "    \n",
    "    for i in px:\n",
    "        arregloPruebasInt.append(createIntArray(i))\n",
    "        arregloPruebasDouble.append(createDoubleArray(i))\n",
    "    \n",
    "    pruebas.append(arregloPruebasInt)\n",
    "    pruebas.append(arregloPruebasDouble)\n",
    "    \n",
    "    return pruebas    "
   ]
  },
  {
   "cell_type": "code",
   "execution_count": 31,
   "metadata": {},
   "outputs": [],
   "source": [
    "def time(funk, this):\n",
    "    return t.timeit(funk, number=this)"
   ]
  },
  {
   "cell_type": "code",
   "execution_count": 44,
   "metadata": {},
   "outputs": [],
   "source": [
    "\"Pruebas Bubble\"\n",
    "def getResultadosBubble(px):\n",
    "    pruebas = getPruebas(px)\n",
    "    resultados=[]\n",
    "    for prueba in pruebas:\n",
    "        res = []\n",
    "        for i in prueba:\n",
    "            def bubbleSortTest():\n",
    "                bubbleSort(i)\n",
    "            res.append(time(bubbleSortTest,5))\n",
    "        resultados.append(res)\n",
    "    return {'resultadosInt':resultados[0], 'resultadosDouble':resultados[1], 'arreglosPrueba':pruebas}\n",
    "\n",
    "\"Pruebas Insertion\"\n",
    "def getResultadosInsertion(px):\n",
    "    pruebas = getPruebas(px)\n",
    "    resultados=[]\n",
    "    for prueba in pruebas:\n",
    "        res = []\n",
    "        for i in prueba:\n",
    "            def insertionSortTest():\n",
    "                insertionSort(i)\n",
    "            res.append(time(insertionSortTest,5))\n",
    "        resultados.append(res)\n",
    "    return {'resultadosInt':resultados[0], 'resultadosDouble':resultados[1], 'arreglosPrueba':pruebas}\n",
    "\n",
    "\"Pruebas MergeSort\"\n",
    "def getResultadosMerge(px):\n",
    "    pruebas = getPruebas(px)\n",
    "    resultados = []\n",
    "    arreglosOrdenados = []\n",
    "    for prueba in pruebas:\n",
    "        res = []\n",
    "        for i in prueba:\n",
    "            def mergeSortTest():\n",
    "                arreglosOrdenados.append(mergeSort(i))\n",
    "            res.append(time(mergeSortTest,5))\n",
    "        resultados.append(res)\n",
    "    return {'resultadosInt':resultados[0], 'resultadosDouble':resultados[1], 'arreglosPrueba':arreglosOrdenados}"
   ]
  },
  {
   "cell_type": "code",
   "execution_count": 69,
   "metadata": {},
   "outputs": [],
   "source": [
    "px = np.linspace(100, 5000, num = 5, dtype = int)"
   ]
  },
  {
   "cell_type": "code",
   "execution_count": 45,
   "metadata": {},
   "outputs": [],
   "source": [
    "bubbleTestResults = getResultadosBubble(px)\n",
    "insertionTestResults = getResultadosInsertion(px)\n",
    "mergeTestResults = getResultadosMerge(px)"
   ]
  },
  {
   "cell_type": "code",
   "execution_count": 56,
   "metadata": {},
   "outputs": [
    {
     "name": "stdout",
     "output_type": "stream",
     "text": [
      "Bubble sort enteros: True\n",
      "Bubble sort reales: True\n",
      "Incercion sort enteros: True\n",
      "Incercion sort reales: True\n",
      "Mezcla sort: True\n"
     ]
    }
   ],
   "source": [
    "print ('Bubble sort enteros: ' + str(all(isSortedAsc(i) for i in bubbleTestResults['arreglosPrueba'][0])))\n",
    "print ('Bubble sort reales: ' + str(all(isSortedAsc(i) for i in bubbleTestResults['arreglosPrueba'][1])))\n",
    "print ('Incercion sort enteros: ' + str(all(isSortedAsc(i) for i in insertionTestResults['arreglosPrueba'][0])))\n",
    "print ('Incercion sort reales: ' + str(all(isSortedAsc(i) for i in insertionTestResults['arreglosPrueba'][1])))\n",
    "print('Mezcla sort: ' + str(all(isSortedAsc(i) for i in mergeTestResults['arreglosPrueba'])))"
   ]
  },
  {
   "cell_type": "code",
   "execution_count": 55,
   "metadata": {},
   "outputs": [
    {
     "data": {
      "text/plain": [
       "Text(0.5,0,'Tamaño del arreglo')"
      ]
     },
     "execution_count": 55,
     "metadata": {},
     "output_type": "execute_result"
    },
    {
     "data": {
      "image/png": "[encoded data removed]",
      "text/plain": [
       "<Figure size 432x288 with 1 Axes>"
      ]
     },
     "metadata": {},
     "output_type": "display_data"
    }
   ],
   "source": [
    "plt.plot(px, bubbleTestResults['resultadosInt'], 'ro')\n",
    "plt.plot(px, bubbleTestResults['resultadosDouble'], 'bo')\n",
    "plt.plot(px, insertionTestResults['resultadosInt'], 'rx')\n",
    "plt.plot(px, insertionTestResults['resultadosDouble'], 'bx')\n",
    "plt.plot(px, mergeTestResults['resultadosInt'], 'r^')\n",
    "plt.plot(px, mergeTestResults['resultadosDouble'] , 'b^')\n",
    "plt.ylabel('Tiempo (segundos)')\n",
    "plt.xlabel('Tamaño del arreglo')"
   ]
  },
  {
   "cell_type": "code",
   "execution_count": 70,
   "metadata": {},
   "outputs": [
    {
     "name": "stdout",
     "output_type": "stream",
     "text": [
      "[ 100 1325 2550 3775 5000]\n",
      "[0.005675312821040279, 1.015825817203222, 3.660302805255924, 7.6279351401990425, 13.421293250159579]\n",
      "[0.006052255481336033, 0.9585497812931862, 3.5607469559872698, 7.9515437806858245, 13.674612190166954]\n",
      "[0.004430920846061781, 0.7645930543094437, 2.8546005450425582, 6.229974159377889, 11.00275504982892]\n",
      "[0.00492688114354678, 0.7870078291798563, 2.9140734348475235, 6.407864467459149, 11.17484781942585]\n"
     ]
    }
   ],
   "source": [
    "print(px)\n",
    "print(bubbleTestResults['resultadosInt'])\n",
    "print(bubbleTestResults['resultadosDouble'])\n",
    "print(insertionTestResults['resultadosInt'])\n",
    "print(insertionTestResults['resultadosDouble'])"
   ]
  },
  {
   "cell_type": "code",
   "execution_count": 62,
   "metadata": {},
   "outputs": [],
   "source": [
    "px = np.linspace(10000, 1000000, num = 10, dtype = int)"
   ]
  },
  {
   "cell_type": "code",
   "execution_count": 63,
   "metadata": {},
   "outputs": [
    {
     "data": {
      "text/plain": [
       "Text(0.5,0,'Tamaño del arreglo')"
      ]
     },
     "execution_count": 63,
     "metadata": {},
     "output_type": "execute_result"
    },
    {
     "data": {
      "image/png": "[encoded data removed]",
      "text/plain": [
       "<Figure size 432x288 with 1 Axes>"
      ]
     },
     "metadata": {},
     "output_type": "display_data"
    }
   ],
   "source": [
    "mergeTestResults = getResultadosMerge(px)\n",
    "plt.plot(px, mergeTestResults['resultadosInt'], 'r^')\n",
    "plt.plot(px, mergeTestResults['resultadosDouble'] , 'b^')\n",
    "plt.ylabel('Tiempo (segundos)')\n",
    "plt.xlabel('Tamaño del arreglo')"
   ]
  },
  {
   "cell_type": "code",
   "execution_count": 68,
   "metadata": {},
   "outputs": [
    {
     "name": "stdout",
     "output_type": "stream",
     "text": [
      "[  10000  120000  230000  340000  450000  560000  670000  780000  890000\n",
      " 1000000]\n",
      "[0.45937729072829825, 6.59591233757601, 13.28563623910668, 20.471078874048544, 27.2587469142818, 33.80154979573126, 42.08006743263468, 50.40293566150285, 56.76004600304441, 62.503283571557404]\n",
      "[0.4246247816554387, 6.299888842015207, 12.750368361197616, 19.431428356030665, 26.175193002662127, 33.136699618407874, 40.4097681080857, 47.126700853496004, 54.98794617579915, 61.30772155005252]\n"
     ]
    }
   ],
   "source": [
    "print(px)\n",
    "print(mergeTestResults['resultadosInt'])\n",
    "print(mergeTestResults['resultadosDouble'])"
   ]
  },
  {
   "cell_type": "code",
   "execution_count": 52,
   "metadata": {},
   "outputs": [
    {
     "name": "stdout",
     "output_type": "stream",
     "text": [
      "The cython extension is already loaded. To reload it, use:\n",
      "  %reload_ext cython\n"
     ]
    }
   ],
   "source": [
    "%load_ext cython"
   ]
  },
  {
   "cell_type": "code",
   "execution_count": 53,
   "metadata": {},
   "outputs": [
    {
     "name": "stderr",
     "output_type": "stream",
     "text": [
      "\n",
      "Error compiling Cython file:\n",
      "------------------------------------------------------------\n",
      "...\n",
      "                a[j], a[j+1] = a[j+1], a[j]\n",
      "                \n",
      "\"Insertion Sort\"\n",
      "def insertionSort(list a):\n",
      "    for i in range(len(a)):\n",
      "        cdef int minIndex = i\n",
      "            ^\n",
      "------------------------------------------------------------\n",
      "\n",
      "C:\\Users\\Merlin The Sorcerer\\.ipython\\cython\\_cython_magic_b08f9d704cf0ec1e665db4197fcd4c67.pyx:12:13: cdef statement not allowed here\n"
     ]
    },
    {
     "ename": "TypeError",
     "evalue": "object of type 'NoneType' has no len()",
     "output_type": "error",
     "traceback": [
      "\u001b[1;31m---------------------------------------------------------------------------\u001b[0m",
      "\u001b[1;31mTypeError\u001b[0m                                 Traceback (most recent call last)",
      "\u001b[1;32m<ipython-input-53-ba87d696f6f0>\u001b[0m in \u001b[0;36m<module>\u001b[1;34m()\u001b[0m\n\u001b[1;32m----> 1\u001b[1;33m \u001b[0mget_ipython\u001b[0m\u001b[1;33m(\u001b[0m\u001b[1;33m)\u001b[0m\u001b[1;33m.\u001b[0m\u001b[0mrun_cell_magic\u001b[0m\u001b[1;33m(\u001b[0m\u001b[1;34m'cython'\u001b[0m\u001b[1;33m,\u001b[0m \u001b[1;34m''\u001b[0m\u001b[1;33m,\u001b[0m \u001b[1;34m'\"Bubble sort\"\\ndef bubbleSort(list a):\\n    cdef int n = len(a)\\n    for i in range(n):\\n        for j in range(0, n-i-1):\\n            if a[j] > a[j + 1]:\\n                a[j], a[j+1] = a[j+1], a[j]\\n                \\n\"Insertion Sort\"\\ndef insertionSort(list a):\\n    for i in range(len(a)):\\n        cdef int minIndex = i\\n        for j in range(i+1, len(a)):\\n            if a[minIndex] > a[j]:\\n                minIndex = j\\n        a[i], a[minIndex] = a[minIndex], a[i]'\u001b[0m\u001b[1;33m)\u001b[0m\u001b[1;33m\u001b[0m\u001b[0m\n\u001b[0m",
      "\u001b[1;32m~\\Anaconda3\\lib\\site-packages\\IPython\\core\\interactiveshell.py\u001b[0m in \u001b[0;36mrun_cell_magic\u001b[1;34m(self, magic_name, line, cell)\u001b[0m\n\u001b[0;32m   2165\u001b[0m             \u001b[0mmagic_arg_s\u001b[0m \u001b[1;33m=\u001b[0m \u001b[0mself\u001b[0m\u001b[1;33m.\u001b[0m\u001b[0mvar_expand\u001b[0m\u001b[1;33m(\u001b[0m\u001b[0mline\u001b[0m\u001b[1;33m,\u001b[0m \u001b[0mstack_depth\u001b[0m\u001b[1;33m)\u001b[0m\u001b[1;33m\u001b[0m\u001b[0m\n\u001b[0;32m   2166\u001b[0m             \u001b[1;32mwith\u001b[0m \u001b[0mself\u001b[0m\u001b[1;33m.\u001b[0m\u001b[0mbuiltin_trap\u001b[0m\u001b[1;33m:\u001b[0m\u001b[1;33m\u001b[0m\u001b[0m\n\u001b[1;32m-> 2167\u001b[1;33m                 \u001b[0mresult\u001b[0m \u001b[1;33m=\u001b[0m \u001b[0mfn\u001b[0m\u001b[1;33m(\u001b[0m\u001b[0mmagic_arg_s\u001b[0m\u001b[1;33m,\u001b[0m \u001b[0mcell\u001b[0m\u001b[1;33m)\u001b[0m\u001b[1;33m\u001b[0m\u001b[0m\n\u001b[0m\u001b[0;32m   2168\u001b[0m             \u001b[1;32mreturn\u001b[0m \u001b[0mresult\u001b[0m\u001b[1;33m\u001b[0m\u001b[0m\n\u001b[0;32m   2169\u001b[0m \u001b[1;33m\u001b[0m\u001b[0m\n",
      "\u001b[1;32m<decorator-gen-128>\u001b[0m in \u001b[0;36mcython\u001b[1;34m(self, line, cell)\u001b[0m\n",
      "\u001b[1;32m~\\Anaconda3\\lib\\site-packages\\IPython\\core\\magic.py\u001b[0m in \u001b[0;36m<lambda>\u001b[1;34m(f, *a, **k)\u001b[0m\n\u001b[0;32m    185\u001b[0m     \u001b[1;31m# but it's overkill for just that one bit of state.\u001b[0m\u001b[1;33m\u001b[0m\u001b[1;33m\u001b[0m\u001b[0m\n\u001b[0;32m    186\u001b[0m     \u001b[1;32mdef\u001b[0m \u001b[0mmagic_deco\u001b[0m\u001b[1;33m(\u001b[0m\u001b[0marg\u001b[0m\u001b[1;33m)\u001b[0m\u001b[1;33m:\u001b[0m\u001b[1;33m\u001b[0m\u001b[0m\n\u001b[1;32m--> 187\u001b[1;33m         \u001b[0mcall\u001b[0m \u001b[1;33m=\u001b[0m \u001b[1;32mlambda\u001b[0m \u001b[0mf\u001b[0m\u001b[1;33m,\u001b[0m \u001b[1;33m*\u001b[0m\u001b[0ma\u001b[0m\u001b[1;33m,\u001b[0m \u001b[1;33m**\u001b[0m\u001b[0mk\u001b[0m\u001b[1;33m:\u001b[0m \u001b[0mf\u001b[0m\u001b[1;33m(\u001b[0m\u001b[1;33m*\u001b[0m\u001b[0ma\u001b[0m\u001b[1;33m,\u001b[0m \u001b[1;33m**\u001b[0m\u001b[0mk\u001b[0m\u001b[1;33m)\u001b[0m\u001b[1;33m\u001b[0m\u001b[0m\n\u001b[0m\u001b[0;32m    188\u001b[0m \u001b[1;33m\u001b[0m\u001b[0m\n\u001b[0;32m    189\u001b[0m         \u001b[1;32mif\u001b[0m \u001b[0mcallable\u001b[0m\u001b[1;33m(\u001b[0m\u001b[0marg\u001b[0m\u001b[1;33m)\u001b[0m\u001b[1;33m:\u001b[0m\u001b[1;33m\u001b[0m\u001b[0m\n",
      "\u001b[1;32m~\\Anaconda3\\lib\\site-packages\\Cython\\Build\\IpythonMagic.py\u001b[0m in \u001b[0;36mcython\u001b[1;34m(self, line, cell)\u001b[0m\n\u001b[0;32m    319\u001b[0m         \u001b[1;32mif\u001b[0m \u001b[0mneed_cythonize\u001b[0m\u001b[1;33m:\u001b[0m\u001b[1;33m\u001b[0m\u001b[0m\n\u001b[0;32m    320\u001b[0m             \u001b[0mextensions\u001b[0m \u001b[1;33m=\u001b[0m \u001b[0mself\u001b[0m\u001b[1;33m.\u001b[0m\u001b[0m_cythonize\u001b[0m\u001b[1;33m(\u001b[0m\u001b[0mmodule_name\u001b[0m\u001b[1;33m,\u001b[0m \u001b[0mcode\u001b[0m\u001b[1;33m,\u001b[0m \u001b[0mlib_dir\u001b[0m\u001b[1;33m,\u001b[0m \u001b[0margs\u001b[0m\u001b[1;33m,\u001b[0m \u001b[0mquiet\u001b[0m\u001b[1;33m=\u001b[0m\u001b[0margs\u001b[0m\u001b[1;33m.\u001b[0m\u001b[0mquiet\u001b[0m\u001b[1;33m)\u001b[0m\u001b[1;33m\u001b[0m\u001b[0m\n\u001b[1;32m--> 321\u001b[1;33m             \u001b[1;32massert\u001b[0m \u001b[0mlen\u001b[0m\u001b[1;33m(\u001b[0m\u001b[0mextensions\u001b[0m\u001b[1;33m)\u001b[0m \u001b[1;33m==\u001b[0m \u001b[1;36m1\u001b[0m\u001b[1;33m\u001b[0m\u001b[0m\n\u001b[0m\u001b[0;32m    322\u001b[0m             \u001b[0mextension\u001b[0m \u001b[1;33m=\u001b[0m \u001b[0mextensions\u001b[0m\u001b[1;33m[\u001b[0m\u001b[1;36m0\u001b[0m\u001b[1;33m]\u001b[0m\u001b[1;33m\u001b[0m\u001b[0m\n\u001b[0;32m    323\u001b[0m             \u001b[0mself\u001b[0m\u001b[1;33m.\u001b[0m\u001b[0m_code_cache\u001b[0m\u001b[1;33m[\u001b[0m\u001b[0mkey\u001b[0m\u001b[1;33m]\u001b[0m \u001b[1;33m=\u001b[0m \u001b[0mmodule_name\u001b[0m\u001b[1;33m\u001b[0m\u001b[0m\n",
      "\u001b[1;31mTypeError\u001b[0m: object of type 'NoneType' has no len()"
     ]
    }
   ],
   "source": [
    "%%cython\n",
    "\"Bubble sort\"\n",
    "def bubbleSort(list a):\n",
    "    cdef int n = len(a)\n",
    "    for i in range(n):\n",
    "        for j in range(0, n-i-1):\n",
    "            if a[j] > a[j + 1]:\n",
    "                a[j], a[j+1] = a[j+1], a[j]\n",
    "                \n",
    "\"Insertion Sort\"\n",
    "def insertionSort(list a):\n",
    "    for i in range(len(a)):\n",
    "        cdef int minIndex = i\n",
    "        for j in range(i+1, len(a)):\n",
    "            if a[minIndex] > a[j]:\n",
    "                minIndex = j\n",
    "        a[i], a[minIndex] = a[minIndex], a[i]"
   ]
  },
  {
   "cell_type": "code",
   "execution_count": null,
   "metadata": {},
   "outputs": [],
   "source": []
  }
 ],
 "metadata": {
  "kernelspec": {
   "display_name": "Python 3",
   "language": "python",
   "name": "python3"
  },
  "language_info": {
   "codemirror_mode": {
    "name": "ipython",
    "version": 3
   },
   "file_extension": ".py",
   "mimetype": "text/x-python",
   "name": "python",
   "nbconvert_exporter": "python",
   "pygments_lexer": "ipython3",
   "version": "3.6.5"
  }
 },
 "nbformat": 4,
 "nbformat_minor": 2
}

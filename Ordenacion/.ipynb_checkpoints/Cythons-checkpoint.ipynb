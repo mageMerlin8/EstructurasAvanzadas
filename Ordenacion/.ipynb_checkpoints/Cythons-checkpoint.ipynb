{
 "cells": [
  {
   "cell_type": "code",
   "execution_count": 1,
   "metadata": {},
   "outputs": [],
   "source": [
    "%load_ext cython"
   ]
  },
  {
   "cell_type": "code",
   "execution_count": 2,
   "metadata": {},
   "outputs": [],
   "source": [
    "def primos(b):\n",
    "    r = [2]\n",
    "    for k in range(2,b+1):\n",
    "        p = True\n",
    "        for i in r:\n",
    "            if (k % i) == 0:\n",
    "                p = False\n",
    "                break\n",
    "                \n",
    "        if(p):\n",
    "            r.append(k)\n",
    "    return r"
   ]
  },
  {
   "cell_type": "code",
   "execution_count": 3,
   "metadata": {},
   "outputs": [],
   "source": [
    "%%cython\n",
    "from cpython cimport bool\n",
    "def primosx(int b):\n",
    "    cdef list r = [2]\n",
    "    cdef int k, i\n",
    "    cdef bool p\n",
    "\n",
    "    for k in range(2, b+1):\n",
    "        p = True\n",
    "        for i in r:\n",
    "            if(k % i ==0):\n",
    "                p = False\n",
    "                break\n",
    "        if(p):\n",
    "            r.append(k)\n",
    "                \n",
    "    return r"
   ]
  },
  {
   "cell_type": "code",
   "execution_count": 4,
   "metadata": {},
   "outputs": [
    {
     "name": "stdout",
     "output_type": "stream",
     "text": [
      "CPU times: user 4.33 ms, sys: 176 µs, total: 4.51 ms\n",
      "Wall time: 4.42 ms\n"
     ]
    }
   ],
   "source": [
    "%%time\n",
    "primos(2000)\n",
    "pass"
   ]
  },
  {
   "cell_type": "code",
   "execution_count": 5,
   "metadata": {},
   "outputs": [
    {
     "name": "stdout",
     "output_type": "stream",
     "text": [
      "CPU times: user 811 µs, sys: 31 µs, total: 842 µs\n",
      "Wall time: 944 µs\n"
     ]
    }
   ],
   "source": [
    "%%time\n",
    "primosx(2000)\n",
    "pass"
   ]
  },
  {
   "cell_type": "code",
   "execution_count": 6,
   "metadata": {},
   "outputs": [
    {
     "name": "stdout",
     "output_type": "stream",
     "text": [
      "CPU times: user 3.63 s, sys: 25.7 ms, total: 3.65 s\n",
      "Wall time: 3.69 s\n"
     ]
    }
   ],
   "source": [
    "%%time\n",
    "primos(100000)\n",
    "pass"
   ]
  },
  {
   "cell_type": "code",
   "execution_count": 7,
   "metadata": {},
   "outputs": [
    {
     "name": "stdout",
     "output_type": "stream",
     "text": [
      "CPU times: user 412 ms, sys: 3.34 ms, total: 415 ms\n",
      "Wall time: 413 ms\n"
     ]
    }
   ],
   "source": [
    "%%time\n",
    "primosx(100000)\n",
    "pass"
   ]
  },
  {
   "cell_type": "code",
   "execution_count": 8,
   "metadata": {},
   "outputs": [
    {
     "name": "stdout",
     "output_type": "stream",
     "text": [
      "CPU times: user 24.2 s, sys: 25.7 ms, total: 24.2 s\n",
      "Wall time: 24.2 s\n"
     ]
    }
   ],
   "source": [
    "%%time\n",
    "primos(300000)\n",
    "pass"
   ]
  },
  {
   "cell_type": "code",
   "execution_count": 9,
   "metadata": {},
   "outputs": [
    {
     "name": "stdout",
     "output_type": "stream",
     "text": [
      "CPU times: user 2.96 s, sys: 24.9 ms, total: 2.98 s\n",
      "Wall time: 2.96 s\n"
     ]
    }
   ],
   "source": [
    "%%time\n",
    "primosx(300000)\n",
    "pass"
   ]
  },
  {
   "cell_type": "code",
   "execution_count": null,
   "metadata": {},
   "outputs": [],
   "source": []
  }
 ],
 "metadata": {
  "kernelspec": {
   "display_name": "Python 3",
   "language": "python",
   "name": "python3"
  },
  "language_info": {
   "codemirror_mode": {
    "name": "ipython",
    "version": 3
   },
   "file_extension": ".py",
   "mimetype": "text/x-python",
   "name": "python",
   "nbconvert_exporter": "python",
   "pygments_lexer": "ipython3",
   "version": "3.6.5"
  }
 },
 "nbformat": 4,
 "nbformat_minor": 2
}

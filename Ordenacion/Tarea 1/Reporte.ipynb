{
 "cells": [
  {
   "cell_type": "markdown",
   "metadata": {},
   "source": [
    "# Tarea 1"
   ]
  },
  {
   "cell_type": "markdown",
   "metadata": {},
   "source": [
    "## Objetivos\n",
    "- Implementar los métodos de ordenación por inserción y por mezcla\n",
    "- Medir y Comparar los tiempos de ejecución de los métodos de ordenación "
   ]
  },
  {
   "cell_type": "markdown",
   "metadata": {},
   "source": [
    "## Métodos de ordenación\n",
    "A continuación se muestran las implementaciones de los métodos de ordenación\n",
    "\n",
    "#### Ordenamiento por insercion\n",
    "```python\n",
    "def insertionSort(a):\n",
    "    for i in range(len(a)):\n",
    "        minIndex = i\n",
    "        for j in range(i+1, len(a)):\n",
    "            if a[minIndex] > a[j]:\n",
    "                minIndex = j\n",
    "        a[i], a[minIndex] = a[minIndex], a[i]\n",
    "    return a\n",
    "```\n",
    "#### Ordenamiento por mezcla\n",
    "```python\n",
    "def merge(left, right):\n",
    "    if len(left) == 0: return right\n",
    "    if len(right) == 0: return left\n",
    "    \n",
    "    n = len(left) + len(right)\n",
    "    resp = np.empty(n)\n",
    "    i = 0\n",
    "    j = 0\n",
    "    while(i + j < n):\n",
    "        if(i < len(left) and (j >= len(right) or left[i] <= right[j])):\n",
    "            resp[i+j] = left[i]\n",
    "            i += 1\n",
    "        else:\n",
    "            resp[i+j] = right[j]\n",
    "            j += 1\n",
    "    return resp        \n",
    "\n",
    "def mergeSort(arr):\n",
    "    if(len(arr) > 1):\n",
    "        corte = int(len(arr)/2)\n",
    "        return merge(mergeSort(arr[:corte]), mergeSort(arr[corte:]))\n",
    "    else:\n",
    "        return arr\n",
    "```\n"
   ]
  },
  {
   "cell_type": "markdown",
   "metadata": {},
   "source": [
    "## Funciones Auxiliares\n",
    "\n",
    "Se crearon varias funciones auxiliares para ejecutar las pruebas con facilidad. A continuación se definen las más importantes:\n",
    "\n",
    "```python  \n",
    "def correPruebas(f, px)\n",
    "```\n",
    "**correPruebas** toma de paramateros: \n",
    "- f - una función de ordenamiento\n",
    "- px - un arreglo de enteros. \n",
    "\n",
    "Esta función ejecuta el método de ordenación sobre arreglos aleatorios\n",
    "de tamaños px[i]. Regresa un diccionario con los siguientes objetos:\n",
    "- 'resultados': un arreglo del mismo tamaño que px con los tiempos (en segundos) que se tardó en correr cada prueba\n",
    "- 'arreglosOrdenados': una lista con los arreglos de las pruebas después de haber sido ordenados.\n",
    "- 'px': el mismo arreglo de enteros. Este arreglo se utiliza para graficar los resultados.\n",
    "- 'funcion': el nombre de la función que se utilizó para ordenar los arreglos. \n",
    "\n",
    "```python \n",
    "def checaResultados(resultados)\n",
    "```\n",
    "\n",
    "**checaResultados** toma como parámetros un diccionario generado por la función \"correPruebas\" y regresa true solamente si todos los arreglos de 'arreglosOrdenados' están ordenados.\n",
    "\n",
    "```python \n",
    "def plotResults(resultados, shapeColor='')\n",
    "```\n",
    "\n",
    "**plotResults** toma un diccionario generado por la función \"correPruebas\" y traza los resultados sobre una gráfica utilizando la libreria _matplotlib_\n",
    "\n",
    "\n"
   ]
  },
  {
   "cell_type": "markdown",
   "metadata": {},
   "source": [
    "## Pruebas"
   ]
  },
  {
   "cell_type": "code",
   "execution_count": 7,
   "metadata": {},
   "outputs": [],
   "source": [
    "%%capture\n",
    "%run ordenaciones.ipynb\n",
    "%run funcionesPruebas.ipynb"
   ]
  },
  {
   "cell_type": "code",
   "execution_count": 11,
   "metadata": {},
   "outputs": [
    {
     "name": "stdout",
     "output_type": "stream",
     "text": [
      "Los arreglos ordenados por Insercion están ordenados: True\n",
      "Los arreglos ordenados por Mezcla están ordenados: True\n",
      "\n"
     ]
    },
    {
     "data": {
      "image/png": "[encoded data removed]",
      "text/plain": [
       "<Figure size 432x288 with 1 Axes>"
      ]
     },
     "metadata": {},
     "output_type": "display_data"
    }
   ],
   "source": [
    "px = [100, 200, 300, 400, 500]\n",
    "\n",
    "resultadosInsertion = correPruebas(insertionSort, px)\n",
    "resultadosMerge = correPruebas(mergeSort, px)\n",
    "\n",
    "print('Los arreglos ordenados por Insercion están ordenados: ' + str(checaResultados(resultadosInsertion)))\n",
    "print('Los arreglos ordenados por Mezcla están ordenados: ' + str(checaResultados(resultadosMerge)))\n",
    "print()\n",
    "\n",
    "plotResults(resultadosInsertion, '^')\n",
    "plotResults(resultadosMerge, 's')"
   ]
  },
  {
   "cell_type": "code",
   "execution_count": null,
   "metadata": {},
   "outputs": [],
   "source": []
  }
 ],
 "metadata": {
  "kernelspec": {
   "display_name": "Python 3",
   "language": "python",
   "name": "python3"
  },
  "language_info": {
   "codemirror_mode": {
    "name": "ipython",
    "version": 3
   },
   "file_extension": ".py",
   "mimetype": "text/x-python",
   "name": "python",
   "nbconvert_exporter": "python",
   "pygments_lexer": "ipython3",
   "version": "3.6.5"
  }
 },
 "nbformat": 4,
 "nbformat_minor": 2
}
